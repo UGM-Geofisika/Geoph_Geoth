{
 "cells": [
  {
   "cell_type": "markdown",
   "metadata": {},
   "source": [
    "![header image](https://wiwit.staff.ugm.ac.id/images/header_mt.png)\n",
    "# Metode Magnetotellurik (MT)"
   ]
  },
  {
   "cell_type": "markdown",
   "metadata": {},
   "source": [
    "Metode ini mamanfaatkan gelombang elektromagnetik alami sebagai sumber untuk mendapatkan gambaran struktur konduktifitas listrik di dalam bumi. Sumber MT diantaranya adalah kilat petir yang terjadi dan menjangkau dalam skala global (Lihat Gambar distribusi petir). Satuan skala warna pada gambar adalah kilatan petir/km2/tahun. Sumber petir ini membawa gelombang elektromagnetik dengan frekuensi diatas sekitar 1 Hz.\n",
    "\n",
    "![distribusi_petir](https://wiwit.staff.ugm.ac.id/images/lightningmap_large.gif). Sumber (https://earthobservatory.nasa.gov/images/2002/where-lightning-strikes)"
   ]
  },
  {
   "cell_type": "markdown",
   "metadata": {},
   "source": [
    "Untuk sumber MT di bawah 1 Hz, sumber gelombang alaminya berasal dari sistem arus listrik di Magnetosphere akibat aktifitas matahari. Apa itu Magnetosphere bisa dibaca disini (https://www.swpc.noaa.gov/phenomena/earths-magnetosphere)"
   ]
  },
  {
   "cell_type": "markdown",
   "metadata": {},
   "source": [
    "![](https://solarsystem.nasa.gov/internal_resources/1460/)"
   ]
  },
  {
   "cell_type": "code",
   "execution_count": null,
   "metadata": {},
   "outputs": [],
   "source": []
  }
 ],
 "metadata": {
  "kernelspec": {
   "display_name": "Python 3",
   "language": "python",
   "name": "python3"
  },
  "language_info": {
   "codemirror_mode": {
    "name": "ipython",
    "version": 3
   },
   "file_extension": ".py",
   "mimetype": "text/x-python",
   "name": "python",
   "nbconvert_exporter": "python",
   "pygments_lexer": "ipython3",
   "version": "3.7.6"
  }
 },
 "nbformat": 4,
 "nbformat_minor": 4
}
