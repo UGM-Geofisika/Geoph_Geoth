{
 "cells": [
  {
   "cell_type": "markdown",
   "metadata": {},
   "source": [
    "![header image](https://wiwit.staff.ugm.ac.id/images/header_mt.png)\n",
    "# Metode Magnetotellurik (MT)\n",
    "## Pendahuluan"
   ]
  },
  {
   "cell_type": "markdown",
   "metadata": {},
   "source": [
    "Metode ini mamanfaatkan gelombang elektromagnetik alami sebagai sumber untuk mendapatkan gambaran struktur konduktifitas listrik di dalam bumi. Model konseptual dari struktur resistivitas listrik pada sistem geothermal diberikan pada gambar berikut:\n",
    "\n",
    "<img src=\"https://wiwit.staff.ugm.ac.id/images/geoth_model01.png\" width=\"800\">\n",
    "\n",
    "Jadi tugas kita adalah mencari struktur dengan resistivitas rendah (low-res) yang berasosiasi dengan clay cap, yang melingkupi reservoir panas bumi. Reservoir panas bumi sendiri memiliki nilai resistivity yang sedikit lebih tinggi.\n",
    "\n",
    "Nah, mari kita mulai dengan konsep dasar metode MT, yaitu memanfaatkan gelombang EM alami yang ada di bumi.\n",
    "Berapakah kecepatan rambat gelombang EM?\n",
    "\n",
    "<img src=\"https://wiwit.staff.ugm.ac.id/images/em_wave_dentith.png\" width=\"500\">\n",
    "\n",
    "Sumber MT diantaranya adalah kilat petir yang terjadi dan menjangkau dalam skala global (Lihat Gambar distribusi petir). Satuan skala warna pada gambar adalah kilatan petir/km2/tahun. Sumber petir ini membawa gelombang elektromagnetik dengan frekuensi diatas sekitar 1 Hz.\n",
    "\n",
    "<img src=\"https://wiwit.staff.ugm.ac.id/images/lightningmap_large.gif\" width=\"500\">. Sumber (https://earthobservatory.nasa.gov/images/2002/where-lightning-strikes)"
   ]
  },
  {
   "cell_type": "markdown",
   "metadata": {},
   "source": [
    "Untuk sumber MT di bawah 1 Hz, sumber gelombang alaminya berasal dari sistem arus listrik di Magnetosphere akibat aktifitas matahari. Apa itu Magnetosphere bisa dibaca disini (https://www.swpc.noaa.gov/phenomena/earths-magnetosphere)"
   ]
  },
  {
   "cell_type": "markdown",
   "metadata": {},
   "source": [
    "<img src=\"https://www.nasa.gov/sites/default/files/styles/full_width_feature/public/images/470162main_magnetosphere-orig_full.jpg\" width=\"500\">\n"
   ]
  },
  {
   "cell_type": "markdown",
   "metadata": {},
   "source": [
    "Karena jarak tempuh dari kedua sumber gelombang elektromagnetik tersebut hingga sampai di permukaan bumi sangat jauh, maka muka gelombangnya berupa gelombang bidang, yang sebagian terpantulkan oleh permukaan bumi, dan sebagian lain menjalar vertikal ke dalam tanah. Amplitudo, fase dan arah perambatan dari medan listrik ($E$) dan medang magnetik ($H$ atau $B$) sangat dipengaruhi oleh distribusi konduktifitas listrik di bawah permukaan bumi.  "
   ]
  },
  {
   "cell_type": "markdown",
   "metadata": {},
   "source": [
    "Secara prinsip, peralatan yang diperlukan untuk survey MT adalah \n",
    "- Magnetometer (derau kecil, *low noise* dan stabil *high stability*) \n",
    "- Pasangan elektroda berpori (porous pot)\n",
    "\n",
    "Pengolahan sinyal dilakukan dalam domain frekuensi karena lebih sederhana. Saat ini kebanyakan instrumen MT sudah dapat digunakan untuk pengolahan secara *real time*. Pemodelan bawah permukaan dapat dilakukan secara 1D, 2D dan 3D.\n",
    "Tahap paling sulit adalah interpretasi, karena sebagaimana metode geofisika yang lain, hasil MT ini memerlukan tambahan informasi dari Geologi, Data Sumur atau data geofisika yang lain seperti data resistivity, seismik, gravity atau magnetik."
   ]
  },
  {
   "cell_type": "markdown",
   "metadata": {},
   "source": [
    "Kelemahan metode ini adalah kesulitan di area yang banyak mengandung gangguan elektrikal, biasanya yang terdapat jalur listrik tegangan tinggi, dan daerah pemukiman yang menggunakan daya listrik intensif. Di Indonesia, hampir sulit diperoleh pengukuran MT yang terbebas dari gangguan, kecuali misalnya di wilayah yang masih sangat terpencil. \n",
    "\n",
    "Terkadang kita harus memasang alat di tempat yang relatif sepi dari gangguan elektromagnetik, untuk dijadikan referensi sebagai koreksi medan magnetik, misalnya di pulau Menjangan Kecil di kepulauan Karimun Jawa, pada saat kami dulu melakukan survey MT di Gunung Merapi.\n",
    "\n",
    "![](https://wiwit.staff.ugm.ac.id/images/mt_merapi.jpg)"
   ]
  },
  {
   "cell_type": "markdown",
   "metadata": {},
   "source": [
    "Keuntungan dari metode MT adalah tidak diperlukan sumber buatan, ramah lingkungan dan dapat menjangkau kedalaman yang dangkal, medium hingga relatif dalam (skala kerak bumi). Aplikasinya banyak digunakan untuk survey air tanah, mineral deposit, minyak dan gas bumi maupun panas bumi. \n",
    "\n",
    "Saat ini telah berkembang instrumen MT yang dapat digunakan untuk pengukuran di laut. (https://www.sciencedirect.com/science/article/pii/S0926985113002164)\n",
    "\n",
    "![](https://wiwit.staff.ugm.ac.id/images/mt_laut.jpg)"
   ]
  },
  {
   "cell_type": "markdown",
   "metadata": {},
   "source": [
    "## Setup Pengukuran MT\n",
    "\n",
    "Instrumen yang diperlukan adalah :\n",
    "- 3 buah koil magnetik\n",
    "- 4 buah elektroda berpori \n",
    "- GPS untuk pewaktu (*timing system*)\n",
    "- Datalogger untuk menyimpan data\n",
    "\n",
    "<img src=\"https://www.wjec.co.jp/root/english/geothermal_e/img/h11_im01.gif\" width=\"500\">\n",
    "\n",
    "Suasana akuisisi data di lapangan\n",
    "\n",
    "<img src=\"https://wiwit.staff.ugm.ac.id/images/mt_field.png\">\n"
   ]
  },
  {
   "cell_type": "markdown",
   "metadata": {},
   "source": [
    "## Data MT\n",
    "\n",
    "Data pengukuran MT terdiri dari:\n",
    "- Rekaman medan magnetik 3 komponen (Hx, Hy, Hz)\n",
    "- Rekaman medan listrik 2 komponen (Ex, Ey)\n",
    "\n",
    "Data rekaman bentuknya berupa sinyal fungsi waktu, yang seolah random/acak, namun jika dilihat dalam kawasan frekuensi, akan terdapat hubungan antara masing-masin komponen medan EM tersebut\n",
    "\n",
    "<img src=\"https://wiwit.staff.ugm.ac.id/images/mt_data.png\" width=\"500\">"
   ]
  },
  {
   "cell_type": "markdown",
   "metadata": {},
   "source": [
    "## Kedalaman Investigasi\n",
    "\n",
    "Untuk pengukuran dengan gelombang bidang, kedalaman optimum yang dapat dijangkau berhubungan dengan kedalaman kulit (*skin depth*), $\\delta$\n",
    "<img src=\"https://latex.codecogs.com/svg.latex?\\Large&space;Z_{kedalaman}=\\frac{\\delta}{\\sqrt 2}=356 \\sqrt{\\frac{\\rho}{f}}\" title=\"\\Large x =\\frac{-b\\pm\\sqrt{b^2-4ac}}{2a}\" />\n",
    "\n",
    "dengan $\\delta$ dalam meter, $\\rho$ resistivitas semu dalam $\\Omega m$, dan $f$ frekuensi dalam Hertz.\n",
    "\n",
    "Untuk mendapatkan gambaran nilai resistivitas di bawah permukaan bumi, kita perlu melihat hubungan matematika antara medan listrik, $E$ dan medan magnetik, $H$ di permukaan bumi dengan resistivity. Untuk keperluan tersebut, asumsi gelombang EM bidang menjadi mempermudah solusi dari relasi matematiknya. Untuk setiap frekuensi gelombang $\\omega$, di atas permukaan medium setengah tak berhingga yang uniform (*half-space*) dengan konduktifitas $\\sigma$, Hubungan $H$ dan $E$ adalah (Stratton, 1941):\n",
    "\n",
    "\n",
    "\n",
    "<img src=\"https://latex.codecogs.com/svg.latex?\\Large&space;\\vec H=\\frac{k}{\\mu \\omega}\\hat n \\times \\vec E\" title=\"\\Large x =\\frac{-b\\pm\\sqrt{b^2-4ac}}{2a}\" />\n",
    "dengan \n",
    "<img src=\"https://latex.codecogs.com/svg.latex?\\Large&space; k=(1-i)\\alpha\" title=\"\\Large x =\\frac{-b\\pm\\sqrt{b^2-4ac}}{2a}\" />\n",
    "<img src=\"https://latex.codecogs.com/svg.latex?\\Large&space;\\alpha = \\sqrt{\\frac{\\omega \\mu \\sigma}{2}}=\\frac{1}{\\delta}\" title=\"\\Large x =\\frac{-b\\pm\\sqrt{b^2-4ac}}{2a}\" />\n",
    "$\\delta$ adalah *skin depth* dalam meter, $k$ adalah konstanta perambatan, $\\hat n$ vektor satuan ke arah bawah."
   ]
  },
  {
   "cell_type": "markdown",
   "metadata": {},
   "source": [
    "Rasio antara $E_x/H_y$ di permukaan menjadi hubungan yang sangat penting disini, \n",
    "\n",
    "<img src=\"https://latex.codecogs.com/svg.latex?\\Large&space;E_x / H_y=\\omega \\mu / k\" title=\"\\Large x =\\frac{-b\\pm\\sqrt{b^2-4ac}}{2a}\" />\n",
    "<img src=\"https://latex.codecogs.com/svg.latex?\\Large&space; \\: =(1+i)(\\omega \\mu/2 \\sigma)^{1/2}\" title=\"\\Large x =\\frac{-b\\pm\\sqrt{b^2-4ac}}{2a}\" />\n",
    "\n",
    "Jika $E_x/H_y = Z_{xy}$\n",
    "<img src=\"https://latex.codecogs.com/svg.latex?\\Large&space; Z_{xy}=\\frac{\\omega \\mu}{k} = (1+i)\\sqrt{\\frac{\\rho \\omega \\mu}{2}}\" title=\"\\Large x =\\frac{-b\\pm\\sqrt{b^2-4ac}}{2a}\" />\n",
    "\n",
    "atau \n",
    "\n",
    "<img src=\"https://latex.codecogs.com/svg.latex?\\Large&space; \\rho_{xy} = \\frac{Z_{xy}Z_{xy}^*}{\\mu \\omega}\" title=\"\\Large x =\\frac{-b\\pm\\sqrt{b^2-4ac}}{2a}\" />\n",
    "\n",
    "kadang sering ditulis\n",
    "\n",
    "<img src=\"https://latex.codecogs.com/svg.latex?\\Large&space; \\rho_{xy} = \\frac{1}{\\mu \\omega} \\mid \\frac{E_x}{H_y}\\mid\" title=\"\\Large x =\\frac{-b\\pm\\sqrt{b^2-4ac}}{2a}\" />"
   ]
  },
  {
   "cell_type": "markdown",
   "metadata": {},
   "source": [
    "<img src=\"https://wiwit.staff.ugm.ac.id/images/static_mt.png\" width=\"500\">"
   ]
  },
  {
   "cell_type": "markdown",
   "metadata": {},
   "source": [
    "<img src=\"https://wiwit.staff.ugm.ac.id/images/mt_anom01.png\" width=\"500\">"
   ]
  },
  {
   "cell_type": "markdown",
   "metadata": {},
   "source": [
    "<img src=\"https://wiwit.staff.ugm.ac.id/images/mt_model02.png\" width=\"800\">"
   ]
  },
  {
   "cell_type": "code",
   "execution_count": null,
   "metadata": {},
   "outputs": [],
   "source": []
  }
 ],
 "metadata": {
  "kernelspec": {
   "display_name": "Python 3",
   "language": "python",
   "name": "python3"
  },
  "language_info": {
   "codemirror_mode": {
    "name": "ipython",
    "version": 3
   },
   "file_extension": ".py",
   "mimetype": "text/x-python",
   "name": "python",
   "nbconvert_exporter": "python",
   "pygments_lexer": "ipython3",
   "version": "3.7.6"
  }
 },
 "nbformat": 4,
 "nbformat_minor": 4
}
