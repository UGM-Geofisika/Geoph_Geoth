{
 "cells": [
  {
   "cell_type": "markdown",
   "metadata": {},
   "source": [
    "![header image](https://wiwit.staff.ugm.ac.id/images/header_mt.png)\n",
    "# Metode Magnetotellurik (MT)\n",
    "## Pendahuluan"
   ]
  },
  {
   "cell_type": "markdown",
   "metadata": {},
   "source": [
    "Metode ini mamanfaatkan gelombang elektromagnetik alami sebagai sumber untuk mendapatkan gambaran struktur konduktifitas listrik di dalam bumi. Sumber MT diantaranya adalah kilat petir yang terjadi dan menjangkau dalam skala global (Lihat Gambar distribusi petir). Satuan skala warna pada gambar adalah kilatan petir/km2/tahun. Sumber petir ini membawa gelombang elektromagnetik dengan frekuensi diatas sekitar 1 Hz.\n",
    "\n",
    "<img src=\"https://wiwit.staff.ugm.ac.id/images/lightningmap_large.gif\" width=\"500\">. Sumber (https://earthobservatory.nasa.gov/images/2002/where-lightning-strikes)"
   ]
  },
  {
   "cell_type": "markdown",
   "metadata": {},
   "source": [
    "Untuk sumber MT di bawah 1 Hz, sumber gelombang alaminya berasal dari sistem arus listrik di Magnetosphere akibat aktifitas matahari. Apa itu Magnetosphere bisa dibaca disini (https://www.swpc.noaa.gov/phenomena/earths-magnetosphere)"
   ]
  },
  {
   "cell_type": "markdown",
   "metadata": {},
   "source": [
    "<img src=\"https://www.nasa.gov/sites/default/files/styles/full_width_feature/public/images/470162main_magnetosphere-orig_full.jpg\" width=\"500\">\n"
   ]
  },
  {
   "cell_type": "markdown",
   "metadata": {},
   "source": [
    "Karena jarak tempuh dari kedua sumber gelombang elektromagnetik tersebut hingga sampai di permukaan bumi sangat jauh, maka muka gelombangnya berupa gelombang bidang, yang sebagian terpantulkan oleh permukaan bumi, dan sebagian lain menjalar vertikal ke dalam tanah. Amplitudo, fase dan arah perambatan dari medan listrik ($E$) dan medang magnetik ($H$ atau $B$) sangat dipengaruhi oleh distribusi konduktifitas listrik di bawah permukaan bumi.  "
   ]
  },
  {
   "cell_type": "markdown",
   "metadata": {},
   "source": [
    "Secara prinsip, peralatan yang diperlukan untuk survey MT adalah \n",
    "- Magnetometer (derau kecil, low  \n",
    "- Pasangan elektroda berpori (porous pot)"
   ]
  },
  {
   "cell_type": "code",
   "execution_count": null,
   "metadata": {},
   "outputs": [],
   "source": []
  }
 ],
 "metadata": {
  "kernelspec": {
   "display_name": "Python 3",
   "language": "python",
   "name": "python3"
  },
  "language_info": {
   "codemirror_mode": {
    "name": "ipython",
    "version": 3
   },
   "file_extension": ".py",
   "mimetype": "text/x-python",
   "name": "python",
   "nbconvert_exporter": "python",
   "pygments_lexer": "ipython3",
   "version": "3.7.6"
  }
 },
 "nbformat": 4,
 "nbformat_minor": 4
}
